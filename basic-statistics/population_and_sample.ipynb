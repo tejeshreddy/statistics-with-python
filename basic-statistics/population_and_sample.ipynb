{
 "cells": [
  {
   "cell_type": "markdown",
   "metadata": {},
   "source": [
    "# Population & Sample\n",
    "\n",
    "A **population** is the entire group that you want to draw conclusions about.\n",
    "\n",
    "A **sample** is the specific group that you will collect data from. The size of the sample is always less than the total size of the population.\n",
    "\n",
    "\n",
    "Q: **Why use sample data?**<br>\n",
    "A: When your population is large in size, geographically dispersed, or difficult to contact, it’s necessary to use a sample. With statistical analysis, you can use sample data to make estimates or test hypotheses about population data.\n",
    "\n",
    "Q: **Ways of doing sampling**<br>\n",
    "A: Ideally, a sample should be randomly selected and representative of the population. Using  probability sampling methods (such as simple random sampling or stratified sampling) reduces the risk of sampling bias and enhances both internal and external validity.\n",
    "\n",
    "For practical reasons, researchers often use non-probability sampling methods. Non-probability samples are chosen for specific criteria; they may be more convenient or cheaper to access. Because of non-random selection methods, any statistical inferences about the broader population will be weaker than with a probability sample.\n",
    "\n",
    "\n",
    "Q: **Reasons for sampling**<br>\n",
    "A:\n",
    "- **Necessity**: Sometimes it’s simply not possible to study the whole population due to its size or inaccessibility.\n",
    "- **Practicality**: It’s easier and more efficient to collect data from a sample.\n",
    "- **Cost-effectiveness**: There are fewer participant, laboratory, equipment, and researcher costs involved.\n",
    "- **Manageability**: Storing and running statistical analyses on smaller datasets is easier and reliable.\n",
    "\n",
    "\n",
    "Q: **What is sampling error?**<br>\n",
    "A: A sampling error is the difference between a population parameter and a sample statistic. In your study, the sampling error is the difference between the mean political attitude rating of your sample and the true mean political attitude rating of all undergraduate students in the Netherlands.\n",
    "\n",
    "Sampling errors happen even when you use a randomly selected sample. This is because random samples are not identical to the population in terms of numerical measures like means and standard deviations.\n",
    "\n",
    "Because the aim of scientific research is to generalize findings from the sample to the population, you want the sampling error to be low. You can reduce sampling error by increasing the sample size."
   ]
  },
  {
   "cell_type": "markdown",
   "metadata": {},
   "source": [
    "## Calculating Sample Mean\n",
    "Calculating sample mean is as simple as adding up the number of items in a sample set and then dividing that sum by the number of items in the sample set. To calculate the sample mean through spreadsheet software and calculators, you can use the formula:\n",
    "\n",
    "**x̄ = ( Σ xi ) / n**\n",
    "\n",
    "Here, x̄ represents the sample mean, Σ tells us to add, xi refers to all the X-values and n stands for the number of items in the data set."
   ]
  },
  {
   "cell_type": "code",
   "execution_count": null,
   "metadata": {},
   "outputs": [],
   "source": []
  }
 ],
 "metadata": {
  "kernelspec": {
   "display_name": "Python 3",
   "language": "python",
   "name": "python3"
  },
  "language_info": {
   "codemirror_mode": {
    "name": "ipython",
    "version": 3
   },
   "file_extension": ".py",
   "mimetype": "text/x-python",
   "name": "python",
   "nbconvert_exporter": "python",
   "pygments_lexer": "ipython3",
   "version": "3.8.3"
  }
 },
 "nbformat": 4,
 "nbformat_minor": 4
}
